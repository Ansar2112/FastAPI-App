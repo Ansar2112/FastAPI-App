{
 "cells": [
  {
   "cell_type": "code",
   "execution_count": 1,
   "id": "16df6fd8",
   "metadata": {},
   "outputs": [
    {
     "name": "stdout",
     "output_type": "stream",
     "text": [
      "{'P001': {'name': 'Ananya Verma', 'city': 'Guwahati', 'age': 28, 'gender': 'female', 'height': 1.65, 'weight': 90.0, 'bmi': 33.06, 'verdict': 'Obese'}, 'P002': {'name': 'Ravi Mehta', 'city': 'Mumbai', 'age': 35, 'gender': 'male', 'height': 1.75, 'weight': 85, 'bmi': 27.76, 'verdict': 'Overweight'}, 'P003': {'name': 'Sneha Kulkarni', 'city': 'Pune', 'age': 22, 'gender': 'female', 'height': 1.6, 'weight': 45, 'bmi': 17.58, 'verdict': 'Underweight'}, 'P004': {'name': 'Arjun Verma', 'city': 'Mumbai', 'age': 40, 'gender': 'male', 'height': 1.8, 'weight': 90.0, 'bmi': 27.78, 'verdict': 'Normal'}, 'P005': {'name': 'Neha Sinha', 'city': 'Kolkata', 'age': 30, 'gender': 'female', 'height': 1.55, 'weight': 75, 'bmi': 31.22, 'verdict': 'Obese'}}\n"
     ]
    }
   ],
   "source": [
    "import json\n",
    "\n",
    "with open('patients.json', 'r') as f:\n",
    "    data = json.load(f)\n",
    "    print(data)"
   ]
  },
  {
   "cell_type": "code",
   "execution_count": 5,
   "id": "17253fb3",
   "metadata": {},
   "outputs": [
    {
     "name": "stdout",
     "output_type": "stream",
     "text": [
      "P001 {'name': 'Ananya Verma', 'city': 'Guwahati', 'age': 28, 'gender': 'female', 'height': 1.65, 'weight': 90.0, 'bmi': 33.06, 'verdict': 'Obese'}\n",
      "P002 {'name': 'Ravi Mehta', 'city': 'Mumbai', 'age': 35, 'gender': 'male', 'height': 1.75, 'weight': 85, 'bmi': 27.76, 'verdict': 'Overweight'}\n",
      "P003 {'name': 'Sneha Kulkarni', 'city': 'Pune', 'age': 22, 'gender': 'female', 'height': 1.6, 'weight': 45, 'bmi': 17.58, 'verdict': 'Underweight'}\n",
      "P004 {'name': 'Arjun Verma', 'city': 'Mumbai', 'age': 40, 'gender': 'male', 'height': 1.8, 'weight': 90.0, 'bmi': 27.78, 'verdict': 'Normal'}\n",
      "P005 {'name': 'Neha Sinha', 'city': 'Kolkata', 'age': 30, 'gender': 'female', 'height': 1.55, 'weight': 75, 'bmi': 31.22, 'verdict': 'Obese'}\n"
     ]
    }
   ],
   "source": [
    "value = data.items()\n",
    "\n",
    "for key, ele in value:\n",
    "    print(key,ele)"
   ]
  },
  {
   "cell_type": "code",
   "execution_count": null,
   "id": "efdd961c",
   "metadata": {},
   "outputs": [],
   "source": []
  }
 ],
 "metadata": {
  "kernelspec": {
   "display_name": "Fast_Api",
   "language": "python",
   "name": "python3"
  },
  "language_info": {
   "codemirror_mode": {
    "name": "ipython",
    "version": 3
   },
   "file_extension": ".py",
   "mimetype": "text/x-python",
   "name": "python",
   "nbconvert_exporter": "python",
   "pygments_lexer": "ipython3",
   "version": "3.10.0"
  }
 },
 "nbformat": 4,
 "nbformat_minor": 5
}
